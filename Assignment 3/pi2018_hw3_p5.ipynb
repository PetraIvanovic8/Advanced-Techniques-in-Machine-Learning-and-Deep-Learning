{
  "cells": [
    {
      "cell_type": "markdown",
      "metadata": {
        "id": "NcDhlfqyBd6m"
      },
      "source": [
        "# Problem 5 - Learning Rate, Batch Size, FashionMNIST"
      ]
    },
    {
      "cell_type": "markdown",
      "metadata": {
        "id": "TpMHZDOECjD3"
      },
      "source": [
        "## 5.1"
      ]
    },
    {
      "cell_type": "markdown",
      "metadata": {
        "id": "V8Agx62ifEsp"
      },
      "source": [
        "Lets initiate our parameters such as learning rates and number of epochs."
      ]
    },
    {
      "cell_type": "code",
      "execution_count": 1,
      "metadata": {
        "id": "-ec9XPX0_Ty5"
      },
      "outputs": [],
      "source": [
        "# import the necessary packages\n",
        "import os\n",
        "# initialize the list of class label names\n",
        "CLASSES = [\"top\", \"trouser\", \"pullover\", \"dress\", \"coat\",\n",
        "\t\"sandal\", \"shirt\", \"sneaker\", \"bag\", \"ankle boot\"]\n",
        "# define the minimum learning rate, maximum learning rate, batch size,\n",
        "# step size, CLR method, and number of epochs\n",
        "MIN_LR = 1e-10\n",
        "MAX_LR = 1e1\n",
        "BATCH_SIZE = 64\n",
        "STEP_SIZE = 5\n",
        "CLR_METHOD = \"triangular\"\n",
        "NUM_EPOCHS = 5\n"
      ]
    },
    {
      "cell_type": "markdown",
      "metadata": {
        "id": "MgfvYMtBfOgT"
      },
      "source": [
        "Lets create a function we can use to create our model (using the code we wrote in recitation for LeNet-5):"
      ]
    },
    {
      "cell_type": "code",
      "execution_count": 2,
      "metadata": {
        "id": "y78M0r6MFmsH"
      },
      "outputs": [],
      "source": [
        "from tensorflow.keras import datasets, layers, models, losses\n",
        "\n",
        "def create_model():\n",
        "  model = models.Sequential()\n",
        "\n",
        "  model.add(layers.Conv2D(6, 5, activation='tanh', input_shape=trainX.shape[1:]))\n",
        "  model.add(layers.AveragePooling2D(2))\n",
        "\n",
        "  model.add(layers.Conv2D(16, 5, activation='tanh'))\n",
        "  model.add(layers.AveragePooling2D(2))\n",
        "\n",
        "  model.add(layers.Conv2D(120, 5, activation='tanh'))\n",
        "\n",
        "  model.add(layers.Flatten())\n",
        "  model.add(layers.Dense(84, activation='tanh'))\n",
        "\n",
        "  model.add(layers.Dense(10, activation='softmax'))\n",
        "\n",
        "  return model"
      ]
    },
    {
      "cell_type": "markdown",
      "metadata": {
        "id": "aV9UgYzrf0Z0"
      },
      "source": [
        "Lets load our dataset and create test and train sets:"
      ]
    },
    {
      "cell_type": "code",
      "execution_count": 3,
      "metadata": {
        "colab": {
          "base_uri": "https://localhost:8080/"
        },
        "id": "fv-CXVTRR1nk",
        "outputId": "d11f499d-63fa-4311-9a6e-7141318fd441"
      },
      "outputs": [
        {
          "name": "stdout",
          "output_type": "stream",
          "text": [
            "[INFO] loading Fashion MNIST data...\n"
          ]
        }
      ],
      "source": [
        "# import the necessary packages\n",
        "from sklearn.preprocessing import LabelBinarizer\n",
        "from sklearn.metrics import classification_report\n",
        "from tensorflow.keras.preprocessing.image import ImageDataGenerator\n",
        "from tensorflow.keras.optimizers import SGD\n",
        "from tensorflow.keras.datasets import fashion_mnist\n",
        "import tensorflow as tf\n",
        "import matplotlib.pyplot as plt\n",
        "import numpy as np\n",
        "import argparse\n",
        "import cv2\n",
        "import sys\n",
        "\n",
        "resize_fn = lambda X, y: (tf.image.resize_with_pad(X, resize, resize) if resize else X, y)\n",
        "# load the training and testing data\n",
        "print(\"[INFO] loading Fashion MNIST data...\")\n",
        "((trainX, trainY), (testX, testY)) = fashion_mnist.load_data()\n",
        "\n",
        "trainX = tf.pad(trainX, [[0, 0], [2,2], [2,2]])/255\n",
        "testX = tf.pad(testX, [[0, 0], [2,2], [2,2]])/255\n",
        "\n",
        "trainX = tf.expand_dims(trainX, axis=3, name=None)\n",
        "testX = tf.expand_dims(testX, axis=3, name=None)\n",
        "\n",
        "lb = LabelBinarizer()\n",
        "trainY = lb.fit_transform(trainY)\n",
        "testY = lb.transform(testY)\n",
        "# construct the image generator for data augmentation\n",
        "aug = ImageDataGenerator(width_shift_range=0.1,\n",
        "\theight_shift_range=0.1, horizontal_flip=True,\n",
        "\tfill_mode=\"nearest\")"
      ]
    },
    {
      "cell_type": "markdown",
      "metadata": {
        "id": "LJ6gohVjf6Ol"
      },
      "source": [
        "Lets initialize our optimizer and model:"
      ]
    },
    {
      "cell_type": "code",
      "execution_count": 4,
      "metadata": {
        "colab": {
          "base_uri": "https://localhost:8080/"
        },
        "id": "Nqs0hQLTebSd",
        "outputId": "188ba223-3768-480a-eff0-c52845ad5298"
      },
      "outputs": [
        {
          "name": "stdout",
          "output_type": "stream",
          "text": [
            "[INFO] compiling model...\n"
          ]
        }
      ],
      "source": [
        "# initialize the optimizer and model\n",
        "print(\"[INFO] compiling model...\")\n",
        "opt = SGD(learning_rate=MIN_LR, momentum=0.9)\n",
        "model = create_model()\n",
        "model.compile(loss=\"categorical_crossentropy\", optimizer=opt,\n",
        "\tmetrics=[\"accuracy\"])"
      ]
    },
    {
      "cell_type": "markdown",
      "metadata": {
        "id": "fBl1W-VjfzJC"
      },
      "source": [
        "Lets create the LearningRateFinder class as shown in the given article (https://pyimagesearch.com/2019/08/05/keras-learning-rate-finder/):"
      ]
    },
    {
      "cell_type": "code",
      "execution_count": 5,
      "metadata": {
        "id": "g9nw0eq4SvVC"
      },
      "outputs": [],
      "source": [
        "# import the necessary packages\n",
        "from tensorflow.keras.callbacks import LambdaCallback\n",
        "from tensorflow.keras import backend as K\n",
        "import matplotlib.pyplot as plt\n",
        "import numpy as np\n",
        "import tempfile\n",
        "\n",
        "class LearningRateFinder:\n",
        "        def __init__(self, model, stopFactor=4, beta=0.98):\n",
        "                # store the model, stop factor, and beta value (for computing\n",
        "                # a smoothed, average loss)\n",
        "                self.model = model\n",
        "                self.stopFactor = stopFactor\n",
        "                self.beta = beta\n",
        "                # initialize our list of learning rates and losses,\n",
        "                # respectively\n",
        "                self.lrs = []\n",
        "                self.losses = []\n",
        "                # initialize our learning rate multiplier, average loss, best\n",
        "                # loss found thus far, current batch number, and weights file\n",
        "                self.lrMult = 1\n",
        "                self.avgLoss = 0\n",
        "                self.bestLoss = 1e9\n",
        "                self.batchNum = 0\n",
        "                self.weightsFile = None\n",
        "\n",
        "        def reset(self):\n",
        "\t\t# re-initialize all variables from our constructor\n",
        "                self.lrs = []\n",
        "                self.losses = []\n",
        "                self.lrMult = 1\n",
        "                self.avgLoss = 0\n",
        "                self.bestLoss = 1e9\n",
        "                self.batchNum = 0\n",
        "                self.weightsFile = None\n",
        "\n",
        "        def is_data_iter(self, data):\n",
        "                # define the set of class types we will check for\n",
        "                iterClasses = [\"NumpyArrayIterator\", \"DirectoryIterator\",\n",
        "                         \"DataFrameIterator\", \"Iterator\", \"Sequence\"]\n",
        "                # return whether our data is an iterator\n",
        "                return data.__class__.__name__ in iterClasses\n",
        "\n",
        "        def on_batch_end(self, batch, logs):\n",
        "                # grab the current learning rate and add log it to the list of\n",
        "                # learning rates that we've tried\n",
        "                lr = K.get_value(self.model.optimizer.lr)\n",
        "                self.lrs.append(lr)\n",
        "                # grab the loss at the end of this batch, increment the total\n",
        "                # number of batches processed, compute the average average\n",
        "                # loss, smooth it, and update the losses list with the\n",
        "                # smoothed value\n",
        "                l = logs[\"loss\"]\n",
        "                self.batchNum += 1\n",
        "                self.avgLoss = (self.beta * self.avgLoss) + ((1 - self.beta) * l)\n",
        "                smooth = self.avgLoss / (1 - (self.beta ** self.batchNum))\n",
        "                self.losses.append(smooth)\n",
        "                # compute the maximum loss stopping factor value\n",
        "                stopLoss = self.stopFactor * self.bestLoss\n",
        "                # check to see whether the loss has grown too large\n",
        "                if self.batchNum > 1 and smooth > stopLoss:\n",
        "                        # stop returning and return from the method\n",
        "                        self.model.stop_training = True\n",
        "                        return\n",
        "                # check to see if the best loss should be updated\n",
        "                if self.batchNum == 1 or smooth < self.bestLoss:\n",
        "                        self.bestLoss = smooth\n",
        "                # increase the learning rate\n",
        "                lr *= self.lrMult\n",
        "                K.set_value(self.model.optimizer.lr, lr)\n",
        "\n",
        "        def find(self, trainData, startLR, endLR, epochs=None,\n",
        "                stepsPerEpoch=None, batchSize=32, sampleSize=2048,\n",
        "                verbose=1):\n",
        "                # reset our class-specific variables\n",
        "                self.reset()\n",
        "                # determine if we are using a data generator or not\n",
        "                useGen = self.is_data_iter(trainData)\n",
        "                # if we're using a generator and the steps per epoch is not\n",
        "                # supplied, raise an error\n",
        "                if useGen and stepsPerEpoch is None:\n",
        "                        msg = \"Using generator without supplying stepsPerEpoch\"\n",
        "                        raise Exception(msg)\n",
        "                # if we're not using a generator then our entire dataset must\n",
        "                # already be in memory\n",
        "                elif not useGen:\n",
        "                        # grab the number of samples in the training data and\n",
        "                        # then derive the number of steps per epoch\n",
        "                        numSamples = len(trainData[0])\n",
        "                        stepsPerEpoch = np.ceil(numSamples / float(batchSize))\n",
        "                # if no number of training epochs are supplied, compute the\n",
        "                # training epochs based on a default sample size\n",
        "                if epochs is None:\n",
        "                        epochs = int(np.ceil(sampleSize / float(stepsPerEpoch)))\n",
        "                # compute the total number of batch updates that will take\n",
        "                # place while we are attempting to find a good starting\n",
        "                # learning rate\n",
        "                numBatchUpdates = epochs * stepsPerEpoch\n",
        "                # derive the learning rate multiplier based on the ending\n",
        "                # learning rate, starting learning rate, and total number of\n",
        "                # batch updates\n",
        "                self.lrMult = (endLR / startLR) ** (1.0 / numBatchUpdates)\n",
        "                # create a temporary file path for the model weights and\n",
        "                # then save the weights (so we can reset the weights when we\n",
        "                # are done)\n",
        "                self.weightsFile = tempfile.mkstemp()[1]\n",
        "                self.model.save_weights(self.weightsFile)\n",
        "                # grab the *original* learning rate (so we can reset it\n",
        "                # later), and then set the *starting* learning rate\n",
        "                origLR = K.get_value(self.model.optimizer.lr)\n",
        "                K.set_value(self.model.optimizer.lr, startLR)\n",
        "                # construct a callback that will be called at the end of each\n",
        "                # batch, enabling us to increase our learning rate as training\n",
        "                # progresses\n",
        "                callback = LambdaCallback(on_batch_end=lambda batch, logs:\n",
        "                        self.on_batch_end(batch, logs))\n",
        "                # check to see if we are using a data iterator\n",
        "                if useGen:\n",
        "                        self.model.fit(\n",
        "                                x=trainData,\n",
        "                                steps_per_epoch=stepsPerEpoch,\n",
        "                                epochs=epochs,\n",
        "                                verbose=verbose,\n",
        "                                callbacks=[callback])\n",
        "                # otherwise, our entire training data is already in memory\n",
        "                else:\n",
        "                        # train our model using Keras' fit method\n",
        "                        self.model.fit(\n",
        "                                x=trainData[0], y=trainData[1],\n",
        "                                batch_size=batchSize,\n",
        "                                epochs=epochs,\n",
        "                                callbacks=[callback],\n",
        "                                verbose=verbose)\n",
        "                # restore the original model weights and learning rate\n",
        "                self.model.load_weights(self.weightsFile)\n",
        "                K.set_value(self.model.optimizer.lr, origLR)\n",
        "\n",
        "        def plot_loss(self, skipBegin=10, skipEnd=10, title=\"\"):\n",
        "                # grab the learning rate and losses values to plot\n",
        "                lrs = self.lrs[skipBegin:-skipEnd]\n",
        "                losses = self.losses[skipBegin:-skipEnd]\n",
        "                # plot the learning rate vs. loss\n",
        "                plt.plot(lrs, losses)\n",
        "                plt.xscale(\"log\")\n",
        "                plt.xlabel(\"Learning Rate (Log Scale)\")\n",
        "                plt.ylabel(\"Loss\")\n",
        "                # if the title is not empty, add it to the plot\n",
        "                if title != \"\":\n",
        "                        plt.title(title)"
      ]
    },
    {
      "cell_type": "markdown",
      "metadata": {
        "id": "KVGIB_5HgSPZ"
      },
      "source": [
        "Lets initialize our LearningRateFinder and train it with our given learning rates:"
      ]
    },
    {
      "cell_type": "code",
      "execution_count": 6,
      "metadata": {
        "colab": {
          "base_uri": "https://localhost:8080/",
          "height": 835
        },
        "id": "OyIBptPYcQzG",
        "outputId": "1c9effc1-3c0d-4c79-dce5-2fffd9db7ad0"
      },
      "outputs": [
        {
          "name": "stdout",
          "output_type": "stream",
          "text": [
            "[INFO] finding learning rate...\n",
            "Epoch 1/5\n",
            "938/938 [==============================] - 46s 49ms/step - loss: 2.3429 - accuracy: 0.0993\n",
            "Epoch 2/5\n",
            "938/938 [==============================] - 46s 49ms/step - loss: 2.3421 - accuracy: 0.0992\n",
            "Epoch 3/5\n",
            "938/938 [==============================] - 46s 49ms/step - loss: 2.3013 - accuracy: 0.1188\n",
            "Epoch 4/5\n",
            "938/938 [==============================] - 46s 49ms/step - loss: 1.2062 - accuracy: 0.5813\n",
            "Epoch 5/5\n",
            "938/938 [==============================] - 25s 26ms/step - loss: 7.7327 - accuracy: 0.5329\n",
            "[INFO] learning rate finder complete\n",
            "[INFO] examine plot and adjust learning rates before training\n"
          ]
        },
        {
          "ename": "SystemExit",
          "evalue": "ignored",
          "output_type": "error",
          "traceback": [
            "An exception has occurred, use %tb to see the full traceback.\n",
            "\u001b[0;31mSystemExit\u001b[0m\u001b[0;31m:\u001b[0m 0\n"
          ]
        },
        {
          "name": "stderr",
          "output_type": "stream",
          "text": [
            "/usr/local/lib/python3.10/dist-packages/IPython/core/interactiveshell.py:3561: UserWarning: To exit: use 'exit', 'quit', or Ctrl-D.\n",
            "  warn(\"To exit: use 'exit', 'quit', or Ctrl-D.\", stacklevel=1)\n"
          ]
        },
        {
          "data": {
            "image/png": "[encoded data removed]",
            "text/plain": [
              "<Figure size 640x480 with 1 Axes>"
            ]
          },
          "metadata": {},
          "output_type": "display_data"
        }
      ],
      "source": [
        "# initialize the learning rate finder and then train with learning\n",
        "# rates ranging from 1e-10 to 1e+1\n",
        "print(\"[INFO] finding learning rate...\")\n",
        "lrf = LearningRateFinder(model)\n",
        "lrf.find(\n",
        "\taug.flow(trainX, trainY, batch_size=BATCH_SIZE),\n",
        "\t1e-10, 1e+1,\n",
        "\tstepsPerEpoch=np.ceil((len(trainX) / float(BATCH_SIZE))), epochs=NUM_EPOCHS,\n",
        "\tbatchSize=BATCH_SIZE)\n",
        "# plot the loss for the various learning rates and save the\n",
        "# resulting plot to disk\n",
        "lrf.plot_loss()\n",
        "\n",
        "plt.savefig(\"learn_rate_finder.png\")\n",
        "# gracefully exit the script so we can adjust our learning rates\n",
        "# in the config and then train the network for our full set of\n",
        "# epochs\n",
        "print(\"[INFO] learning rate finder complete\")\n",
        "print(\"[INFO] examine plot and adjust learning rates before training\")\n",
        "sys.exit(0)\n"
      ]
    },
    {
      "cell_type": "markdown",
      "metadata": {
        "id": "GRo9fm0tf-ga"
      },
      "source": [
        "**Answer:**\n",
        "\n",
        "From this graph we can see that the loss is constant when learning rate (on log scale) is lower than $10^{-4}$ and then at $10^{-4}$ it starts dropping until it reaches its minimum at the learning rate of about $10^{-1}$. After this point the loss goes significantly up.\n",
        "\n",
        "Based on this plot and the Figure 2 explanation from the article, we can pinpoint our $lr_min = 10e^{-3}$ as this is when our loss is falling and our $lr_max = 10e^{-2}$."
      ]
    },
    {
      "cell_type": "markdown",
      "metadata": {
        "id": "YdDLYruzClXn"
      },
      "source": [
        "## 5.2"
      ]
    },
    {
      "cell_type": "markdown",
      "metadata": {
        "id": "SZ5uJbIlgkZD"
      },
      "source": [
        "Lets create our CyclicLR class as used in the artice (https://pyimagesearch.com/2019/08/05/keras-learning-rate-finder/):"
      ]
    },
    {
      "cell_type": "code",
      "execution_count": 7,
      "metadata": {
        "id": "ac_ZHK3mS4CQ"
      },
      "outputs": [],
      "source": [
        "from tensorflow.keras.callbacks import *\n",
        "from tensorflow.keras import backend as K\n",
        "import numpy as np\n",
        "\n",
        "class CyclicLR(Callback):\n",
        "    \"\"\"This callback implements a cyclical learning rate policy (CLR).\n",
        "    The method cycles the learning rate between two boundaries with\n",
        "    some constant frequency, as detailed in this paper (https://arxiv.org/abs/1506.01186).\n",
        "    The amplitude of the cycle can be scaled on a per-iteration or\n",
        "    per-cycle basis.\n",
        "    This class has three built-in policies, as put forth in the paper.\n",
        "    \"triangular\":\n",
        "        A basic triangular cycle w/ no amplitude scaling.\n",
        "    \"triangular2\":\n",
        "        A basic triangular cycle that scales initial amplitude by half each cycle.\n",
        "    \"exp_range\":\n",
        "        A cycle that scales initial amplitude by gamma**(cycle iterations) at each\n",
        "        cycle iteration.\n",
        "    For more detail, please see paper.\n",
        "\n",
        "    # Example\n",
        "        ```python\n",
        "            clr = CyclicLR(base_lr=0.001, max_lr=0.006,\n",
        "                                step_size=2000., mode='triangular')\n",
        "            model.fit(X_train, Y_train, callbacks=[clr])\n",
        "        ```\n",
        "\n",
        "    Class also supports custom scaling functions:\n",
        "        ```python\n",
        "            clr_fn = lambda x: 0.5*(1+np.sin(x*np.pi/2.))\n",
        "            clr = CyclicLR(base_lr=0.001, max_lr=0.006,\n",
        "                                step_size=2000., scale_fn=clr_fn,\n",
        "                                scale_mode='cycle')\n",
        "            model.fit(X_train, Y_train, callbacks=[clr])\n",
        "        ```\n",
        "    # Arguments\n",
        "        base_lr: initial learning rate which is the\n",
        "            lower boundary in the cycle.\n",
        "        max_lr: upper boundary in the cycle. Functionally,\n",
        "            it defines the cycle amplitude (max_lr - base_lr).\n",
        "            The lr at any cycle is the sum of base_lr\n",
        "            and some scaling of the amplitude; therefore\n",
        "            max_lr may not actually be reached depending on\n",
        "            scaling function.\n",
        "        step_size: number of training iterations per\n",
        "            half cycle. Authors suggest setting step_size\n",
        "            2-8 x training iterations in epoch.\n",
        "        mode: one of {triangular, triangular2, exp_range}.\n",
        "            Default 'triangular'.\n",
        "            Values correspond to policies detailed above.\n",
        "            If scale_fn is not None, this argument is ignored.\n",
        "        gamma: constant in 'exp_range' scaling function:\n",
        "            gamma**(cycle iterations)\n",
        "        scale_fn: Custom scaling policy defined by a single\n",
        "            argument lambda function, where\n",
        "            0 <= scale_fn(x) <= 1 for all x >= 0.\n",
        "            mode paramater is ignored\n",
        "        scale_mode: {'cycle', 'iterations'}.\n",
        "            Defines whether scale_fn is evaluated on\n",
        "            cycle number or cycle iterations (training\n",
        "            iterations since start of cycle). Default is 'cycle'.\n",
        "    \"\"\"\n",
        "\n",
        "    def __init__(self, base_lr=0.001, max_lr=0.006, step_size=2000., mode='triangular',\n",
        "                 gamma=1., scale_fn=None, scale_mode='cycle'):\n",
        "        super(CyclicLR, self).__init__()\n",
        "\n",
        "        self.base_lr = base_lr\n",
        "        self.max_lr = max_lr\n",
        "        self.step_size = step_size\n",
        "        self.mode = mode\n",
        "        self.gamma = gamma\n",
        "        if scale_fn == None:\n",
        "            if self.mode == 'triangular':\n",
        "                self.scale_fn = lambda x: 1.\n",
        "                self.scale_mode = 'cycle'\n",
        "            elif self.mode == 'triangular2':\n",
        "                self.scale_fn = lambda x: 1/(2.**(x-1))\n",
        "                self.scale_mode = 'cycle'\n",
        "            elif self.mode == 'exp_range':\n",
        "                self.scale_fn = lambda x: gamma**(x)\n",
        "                self.scale_mode = 'iterations'\n",
        "        else:\n",
        "            self.scale_fn = scale_fn\n",
        "            self.scale_mode = scale_mode\n",
        "        self.clr_iterations = 0.\n",
        "        self.trn_iterations = 0.\n",
        "        self.history = {}\n",
        "\n",
        "        self._reset()\n",
        "\n",
        "    def _reset(self, new_base_lr=None, new_max_lr=None,\n",
        "               new_step_size=None):\n",
        "        \"\"\"Resets cycle iterations.\n",
        "        Optional boundary/step size adjustment.\n",
        "        \"\"\"\n",
        "        if new_base_lr != None:\n",
        "            self.base_lr = new_base_lr\n",
        "        if new_max_lr != None:\n",
        "            self.max_lr = new_max_lr\n",
        "        if new_step_size != None:\n",
        "            self.step_size = new_step_size\n",
        "        self.clr_iterations = 0.\n",
        "\n",
        "    def clr(self):\n",
        "        cycle = np.floor(1+self.clr_iterations/(2*self.step_size))\n",
        "        x = np.abs(self.clr_iterations/self.step_size - 2*cycle + 1)\n",
        "        if self.scale_mode == 'cycle':\n",
        "            return self.base_lr + (self.max_lr-self.base_lr)*np.maximum(0, (1-x))*self.scale_fn(cycle)\n",
        "        else:\n",
        "            return self.base_lr + (self.max_lr-self.base_lr)*np.maximum(0, (1-x))*self.scale_fn(self.clr_iterations)\n",
        "\n",
        "    def on_train_begin(self, logs={}):\n",
        "        logs = logs or {}\n",
        "\n",
        "        if self.clr_iterations == 0:\n",
        "            K.set_value(self.model.optimizer.lr, self.base_lr)\n",
        "        else:\n",
        "            K.set_value(self.model.optimizer.lr, self.clr())\n",
        "\n",
        "    def on_batch_end(self, epoch, logs=None):\n",
        "\n",
        "        logs = logs or {}\n",
        "        self.trn_iterations += 1\n",
        "        self.clr_iterations += 1\n",
        "\n",
        "        self.history.setdefault('lr', []).append(K.get_value(self.model.optimizer.lr))\n",
        "        self.history.setdefault('iterations', []).append(self.trn_iterations)\n",
        "\n",
        "        for k, v in logs.items():\n",
        "            self.history.setdefault(k, []).append(v)\n",
        "\n",
        "        K.set_value(self.model.optimizer.lr, self.clr())"
      ]
    },
    {
      "cell_type": "markdown",
      "metadata": {
        "id": "XSo4XTMfgrKC"
      },
      "source": [
        "Lets run our train our model again with the cyclic learning rate:"
      ]
    },
    {
      "cell_type": "code",
      "execution_count": 8,
      "metadata": {
        "colab": {
          "base_uri": "https://localhost:8080/"
        },
        "id": "q6HH-Z3R_WqC",
        "outputId": "2f7ec7cd-df52-4ecf-86fc-bfc991d49890"
      },
      "outputs": [
        {
          "name": "stdout",
          "output_type": "stream",
          "text": [
            "[INFO] training network...\n",
            "[INFO] training network...\n",
            "Epoch 1/5\n",
            "937/937 [==============================] - 65s 69ms/step - loss: 2.1456 - accuracy: 0.3097 - val_loss: 1.2521 - val_accuracy: 0.5571\n",
            "Epoch 2/5\n",
            "937/937 [==============================] - 51s 54ms/step - loss: 1.0789 - accuracy: 0.6106 - val_loss: 0.8554 - val_accuracy: 0.6977\n",
            "Epoch 3/5\n",
            "937/937 [==============================] - 50s 54ms/step - loss: 0.8911 - accuracy: 0.6706 - val_loss: 0.8318 - val_accuracy: 0.7160\n",
            "Epoch 4/5\n",
            "937/937 [==============================] - 51s 54ms/step - loss: 0.8025 - accuracy: 0.6988 - val_loss: 0.7062 - val_accuracy: 0.7314\n",
            "Epoch 5/5\n",
            "937/937 [==============================] - 48s 51ms/step - loss: 0.7602 - accuracy: 0.7145 - val_loss: 0.6759 - val_accuracy: 0.7418\n",
            "[INFO] evaluating network...\n",
            "157/157 [==============================] - 2s 11ms/step\n",
            "              precision    recall  f1-score   support\n",
            "\n",
            "         top       0.72      0.80      0.76      1000\n",
            "     trouser       0.95      0.95      0.95      1000\n",
            "    pullover       0.45      0.64      0.53      1000\n",
            "       dress       0.80      0.70      0.75      1000\n",
            "        coat       0.53      0.76      0.62      1000\n",
            "      sandal       0.97      0.78      0.86      1000\n",
            "       shirt       0.52      0.03      0.06      1000\n",
            "     sneaker       0.75      0.97      0.84      1000\n",
            "         bag       0.87      0.96      0.91      1000\n",
            "  ankle boot       0.95      0.83      0.88      1000\n",
            "\n",
            "    accuracy                           0.74     10000\n",
            "   macro avg       0.75      0.74      0.72     10000\n",
            "weighted avg       0.75      0.74      0.72     10000\n",
            "\n"
          ]
        }
      ],
      "source": [
        "MIN_LR = 1e-3\n",
        "MAX_LR = 1e-2\n",
        "\n",
        "# otherwise, we have already defined a learning rate space to train\n",
        "# over, so compute the step size and initialize the cyclic learning\n",
        "# rate method\n",
        "stepSize =STEP_SIZE * (trainX.shape[0] // BATCH_SIZE)\n",
        "clr = CyclicLR(\n",
        "\tmode='triangular',\n",
        "\tbase_lr=MIN_LR,\n",
        "\tmax_lr=MAX_LR,\n",
        "\tstep_size=stepSize)\n",
        "\n",
        "# train the network\n",
        "print(\"[INFO] training network...\")\n",
        "print(\"[INFO] training network...\")\n",
        "H = model.fit(\n",
        "\tx=aug.flow(trainX, trainY, batch_size=BATCH_SIZE),\n",
        "\tvalidation_data=(testX, testY),\n",
        "\tsteps_per_epoch=trainX.shape[0] // BATCH_SIZE,\n",
        "\tepochs=NUM_EPOCHS,\n",
        "\tcallbacks=[clr],\n",
        "\tverbose=1)\n",
        "# evaluate the network and show a classification report\n",
        "print(\"[INFO] evaluating network...\")\n",
        "predictions = model.predict(x=testX, batch_size=BATCH_SIZE)\n",
        "print(classification_report(testY.argmax(axis=1),\n",
        "\tpredictions.argmax(axis=1), target_names=CLASSES))"
      ]
    },
    {
      "cell_type": "code",
      "execution_count": 37,
      "metadata": {
        "colab": {
          "base_uri": "https://localhost:8080/",
          "height": 477
        },
        "id": "wYNAn8ntiQlO",
        "outputId": "367df40f-1a84-43c4-96ef-32b1ec8d8127"
      },
      "outputs": [
        {
          "data": {
            "image/png": "[encoded data removed]",
            "text/plain": [
              "<Figure size 640x480 with 1 Axes>"
            ]
          },
          "metadata": {},
          "output_type": "display_data"
        }
      ],
      "source": [
        "# construct a plot that plots and saves the training history\n",
        "N = np.arange(0, NUM_EPOCHS)\n",
        "plt.style.use(\"ggplot\")\n",
        "plt.figure()\n",
        "plt.plot(N, H.history[\"loss\"], label=\"train_loss\")\n",
        "plt.plot(N, H.history[\"val_loss\"], label=\"val_loss\")\n",
        "plt.plot(N, H.history[\"accuracy\"], label=\"train_acc\")\n",
        "plt.plot(N, H.history[\"val_accuracy\"], label=\"val_acc\")\n",
        "plt.title(\"Training Loss and Accuracy\")\n",
        "plt.xlabel(\"Epoch #\")\n",
        "plt.ylabel(\"Loss/Accuracy\")\n",
        "plt.legend(loc=\"lower left\")\n",
        "plt.savefig('training_plot.png')"
      ]
    },
    {
      "cell_type": "markdown",
      "metadata": {
        "id": "RdaMp6ZBf_DF"
      },
      "source": [
        "**Answer:**\n",
        "\n",
        "From this we can see that increasing the number of epochs decreases both our training and validation loss as expected and increases out training and validation accuracy. However, we can notice that our accuracy does not go much over 0.74 (or 74%) which indicates our model is not doing as well as we might want it to. Further, our loss decreases but even at the last epoch it is not very low."
      ]
    },
    {
      "cell_type": "markdown",
      "metadata": {
        "id": "-sZ0MxIQ_Xs5"
      },
      "source": [
        "## 5.3"
      ]
    },
    {
      "cell_type": "code",
      "execution_count": 9,
      "metadata": {
        "colab": {
          "base_uri": "https://localhost:8080/"
        },
        "id": "vwZ7T3tY_Xs6",
        "outputId": "eea72879-3311-4c04-dc4b-a907a594425f"
      },
      "outputs": [
        {
          "name": "stdout",
          "output_type": "stream",
          "text": [
            "[INFO] compiling model...\n",
            "[INFO] training network...\n",
            "Epoch 1/5\n",
            "1875/1875 [==============================] - 69s 37ms/step - loss: 0.7687 - accuracy: 0.7072 - val_loss: 0.5525 - val_accuracy: 0.7867\n",
            "Epoch 2/5\n",
            "1875/1875 [==============================] - 53s 28ms/step - loss: 0.5422 - accuracy: 0.7959 - val_loss: 0.4894 - val_accuracy: 0.8112\n",
            "Epoch 3/5\n",
            "1875/1875 [==============================] - 52s 28ms/step - loss: 0.4710 - accuracy: 0.8232 - val_loss: 0.3980 - val_accuracy: 0.8502\n",
            "Epoch 4/5\n",
            "1875/1875 [==============================] - 53s 28ms/step - loss: 0.4322 - accuracy: 0.8386 - val_loss: 0.4387 - val_accuracy: 0.8395\n",
            "Epoch 5/5\n",
            "1875/1875 [==============================] - 52s 28ms/step - loss: 0.4112 - accuracy: 0.8464 - val_loss: 0.3695 - val_accuracy: 0.8604\n",
            "[INFO] evaluating network...\n",
            "313/313 [==============================] - 2s 7ms/step\n",
            "              precision    recall  f1-score   support\n",
            "\n",
            "         top       0.74      0.87      0.80      1000\n",
            "     trouser       0.99      0.97      0.98      1000\n",
            "    pullover       0.75      0.80      0.78      1000\n",
            "       dress       0.88      0.86      0.87      1000\n",
            "        coat       0.79      0.74      0.76      1000\n",
            "      sandal       0.96      0.95      0.96      1000\n",
            "       shirt       0.63      0.56      0.59      1000\n",
            "     sneaker       0.91      0.97      0.94      1000\n",
            "         bag       0.98      0.95      0.97      1000\n",
            "  ankle boot       0.98      0.93      0.95      1000\n",
            "\n",
            "    accuracy                           0.86     10000\n",
            "   macro avg       0.86      0.86      0.86     10000\n",
            "weighted avg       0.86      0.86      0.86     10000\n",
            "\n",
            "[INFO] training network...\n",
            "Epoch 1/5\n",
            "937/937 [==============================] - 48s 51ms/step - loss: 0.3671 - accuracy: 0.8628 - val_loss: 0.3674 - val_accuracy: 0.8623\n",
            "Epoch 2/5\n",
            "937/937 [==============================] - 46s 49ms/step - loss: 0.3585 - accuracy: 0.8662 - val_loss: 0.3389 - val_accuracy: 0.8755\n",
            "Epoch 3/5\n",
            "937/937 [==============================] - 47s 50ms/step - loss: 0.3519 - accuracy: 0.8686 - val_loss: 0.3360 - val_accuracy: 0.8712\n",
            "Epoch 4/5\n",
            "937/937 [==============================] - 48s 51ms/step - loss: 0.3451 - accuracy: 0.8715 - val_loss: 0.3367 - val_accuracy: 0.8734\n",
            "Epoch 5/5\n",
            "937/937 [==============================] - 47s 50ms/step - loss: 0.3395 - accuracy: 0.8736 - val_loss: 0.3370 - val_accuracy: 0.8744\n",
            "[INFO] evaluating network...\n",
            "157/157 [==============================] - 2s 11ms/step\n",
            "              precision    recall  f1-score   support\n",
            "\n",
            "         top       0.81      0.84      0.82      1000\n",
            "     trouser       0.99      0.97      0.98      1000\n",
            "    pullover       0.75      0.85      0.80      1000\n",
            "       dress       0.89      0.90      0.89      1000\n",
            "        coat       0.80      0.74      0.77      1000\n",
            "      sandal       0.96      0.97      0.96      1000\n",
            "       shirt       0.70      0.61      0.65      1000\n",
            "     sneaker       0.95      0.93      0.94      1000\n",
            "         bag       0.95      0.98      0.97      1000\n",
            "  ankle boot       0.95      0.95      0.95      1000\n",
            "\n",
            "    accuracy                           0.87     10000\n",
            "   macro avg       0.87      0.87      0.87     10000\n",
            "weighted avg       0.87      0.87      0.87     10000\n",
            "\n",
            "[INFO] training network...\n",
            "Epoch 1/5\n",
            "468/468 [==============================] - 44s 93ms/step - loss: 0.3221 - accuracy: 0.8794 - val_loss: 0.3148 - val_accuracy: 0.8824\n",
            "Epoch 2/5\n",
            "468/468 [==============================] - 44s 94ms/step - loss: 0.3174 - accuracy: 0.8818 - val_loss: 0.3140 - val_accuracy: 0.8813\n",
            "Epoch 3/5\n",
            "468/468 [==============================] - 44s 93ms/step - loss: 0.3170 - accuracy: 0.8811 - val_loss: 0.3111 - val_accuracy: 0.8846\n",
            "Epoch 4/5\n",
            "468/468 [==============================] - 45s 95ms/step - loss: 0.3122 - accuracy: 0.8836 - val_loss: 0.3113 - val_accuracy: 0.8834\n",
            "Epoch 5/5\n",
            "468/468 [==============================] - 45s 96ms/step - loss: 0.3106 - accuracy: 0.8849 - val_loss: 0.3104 - val_accuracy: 0.8801\n",
            "[INFO] evaluating network...\n",
            "79/79 [==============================] - 2s 20ms/step\n",
            "              precision    recall  f1-score   support\n",
            "\n",
            "         top       0.86      0.76      0.81      1000\n",
            "     trouser       0.99      0.97      0.98      1000\n",
            "    pullover       0.78      0.82      0.80      1000\n",
            "       dress       0.86      0.91      0.88      1000\n",
            "        coat       0.80      0.80      0.80      1000\n",
            "      sandal       0.97      0.97      0.97      1000\n",
            "       shirt       0.68      0.68      0.68      1000\n",
            "     sneaker       0.93      0.97      0.95      1000\n",
            "         bag       0.97      0.98      0.97      1000\n",
            "  ankle boot       0.98      0.94      0.96      1000\n",
            "\n",
            "    accuracy                           0.88     10000\n",
            "   macro avg       0.88      0.88      0.88     10000\n",
            "weighted avg       0.88      0.88      0.88     10000\n",
            "\n",
            "[INFO] training network...\n",
            "Epoch 1/5\n",
            "234/234 [==============================] - 42s 179ms/step - loss: 0.3017 - accuracy: 0.8870 - val_loss: 0.3025 - val_accuracy: 0.8872\n",
            "Epoch 2/5\n",
            "234/234 [==============================] - 41s 175ms/step - loss: 0.3011 - accuracy: 0.8879 - val_loss: 0.3030 - val_accuracy: 0.8885\n",
            "Epoch 3/5\n",
            "234/234 [==============================] - 42s 180ms/step - loss: 0.2983 - accuracy: 0.8877 - val_loss: 0.3015 - val_accuracy: 0.8885\n",
            "Epoch 4/5\n",
            "234/234 [==============================] - 42s 181ms/step - loss: 0.2958 - accuracy: 0.8904 - val_loss: 0.3023 - val_accuracy: 0.8861\n",
            "Epoch 5/5\n",
            "234/234 [==============================] - 41s 176ms/step - loss: 0.2958 - accuracy: 0.8891 - val_loss: 0.2978 - val_accuracy: 0.8881\n",
            "[INFO] evaluating network...\n",
            "40/40 [==============================] - 1s 35ms/step\n",
            "              precision    recall  f1-score   support\n",
            "\n",
            "         top       0.83      0.85      0.84      1000\n",
            "     trouser       0.99      0.98      0.98      1000\n",
            "    pullover       0.82      0.80      0.81      1000\n",
            "       dress       0.90      0.90      0.90      1000\n",
            "        coat       0.79      0.81      0.80      1000\n",
            "      sandal       0.97      0.97      0.97      1000\n",
            "       shirt       0.71      0.69      0.70      1000\n",
            "     sneaker       0.95      0.94      0.94      1000\n",
            "         bag       0.98      0.97      0.98      1000\n",
            "  ankle boot       0.95      0.96      0.96      1000\n",
            "\n",
            "    accuracy                           0.89     10000\n",
            "   macro avg       0.89      0.89      0.89     10000\n",
            "weighted avg       0.89      0.89      0.89     10000\n",
            "\n",
            "[INFO] training network...\n",
            "Epoch 1/5\n",
            "117/117 [==============================] - 41s 348ms/step - loss: 0.2920 - accuracy: 0.8907 - val_loss: 0.2956 - val_accuracy: 0.8877\n",
            "Epoch 2/5\n",
            "117/117 [==============================] - 41s 348ms/step - loss: 0.2896 - accuracy: 0.8921 - val_loss: 0.2948 - val_accuracy: 0.8887\n",
            "Epoch 3/5\n",
            "117/117 [==============================] - 41s 349ms/step - loss: 0.2896 - accuracy: 0.8924 - val_loss: 0.2917 - val_accuracy: 0.8922\n",
            "Epoch 4/5\n",
            "117/117 [==============================] - 41s 347ms/step - loss: 0.2871 - accuracy: 0.8939 - val_loss: 0.2918 - val_accuracy: 0.8901\n",
            "Epoch 5/5\n",
            "117/117 [==============================] - 41s 347ms/step - loss: 0.2870 - accuracy: 0.8943 - val_loss: 0.2965 - val_accuracy: 0.8886\n",
            "[INFO] evaluating network...\n",
            "20/20 [==============================] - 1s 70ms/step\n",
            "              precision    recall  f1-score   support\n",
            "\n",
            "         top       0.82      0.87      0.84      1000\n",
            "     trouser       0.99      0.98      0.98      1000\n",
            "    pullover       0.77      0.86      0.81      1000\n",
            "       dress       0.89      0.90      0.90      1000\n",
            "        coat       0.84      0.76      0.80      1000\n",
            "      sandal       0.95      0.98      0.97      1000\n",
            "       shirt       0.73      0.67      0.70      1000\n",
            "     sneaker       0.95      0.94      0.94      1000\n",
            "         bag       0.97      0.98      0.98      1000\n",
            "  ankle boot       0.96      0.95      0.96      1000\n",
            "\n",
            "    accuracy                           0.89     10000\n",
            "   macro avg       0.89      0.89      0.89     10000\n",
            "weighted avg       0.89      0.89      0.89     10000\n",
            "\n",
            "[INFO] training network...\n",
            "Epoch 1/5\n",
            "58/58 [==============================] - 40s 680ms/step - loss: 0.2860 - accuracy: 0.8940 - val_loss: 0.2920 - val_accuracy: 0.8889\n",
            "Epoch 2/5\n",
            "58/58 [==============================] - 39s 665ms/step - loss: 0.2848 - accuracy: 0.8932 - val_loss: 0.2913 - val_accuracy: 0.8907\n",
            "Epoch 3/5\n",
            "58/58 [==============================] - 39s 666ms/step - loss: 0.2834 - accuracy: 0.8946 - val_loss: 0.2949 - val_accuracy: 0.8886\n",
            "Epoch 4/5\n",
            "58/58 [==============================] - 39s 665ms/step - loss: 0.2825 - accuracy: 0.8956 - val_loss: 0.2927 - val_accuracy: 0.8895\n",
            "Epoch 5/5\n",
            "58/58 [==============================] - 40s 682ms/step - loss: 0.2804 - accuracy: 0.8959 - val_loss: 0.2899 - val_accuracy: 0.8911\n",
            "[INFO] evaluating network...\n",
            "10/10 [==============================] - 1s 127ms/step\n",
            "              precision    recall  f1-score   support\n",
            "\n",
            "         top       0.83      0.85      0.84      1000\n",
            "     trouser       0.99      0.97      0.98      1000\n",
            "    pullover       0.79      0.84      0.82      1000\n",
            "       dress       0.90      0.90      0.90      1000\n",
            "        coat       0.82      0.79      0.81      1000\n",
            "      sandal       0.98      0.97      0.97      1000\n",
            "       shirt       0.72      0.68      0.70      1000\n",
            "     sneaker       0.94      0.96      0.95      1000\n",
            "         bag       0.97      0.98      0.97      1000\n",
            "  ankle boot       0.96      0.96      0.96      1000\n",
            "\n",
            "    accuracy                           0.89     10000\n",
            "   macro avg       0.89      0.89      0.89     10000\n",
            "weighted avg       0.89      0.89      0.89     10000\n",
            "\n",
            "[INFO] training network...\n",
            "Epoch 1/5\n",
            "29/29 [==============================] - 40s 1s/step - loss: 0.2819 - accuracy: 0.8941 - val_loss: 0.2902 - val_accuracy: 0.8904\n",
            "Epoch 2/5\n",
            "29/29 [==============================] - 39s 1s/step - loss: 0.2820 - accuracy: 0.8951 - val_loss: 0.2888 - val_accuracy: 0.8915\n",
            "Epoch 3/5\n",
            "29/29 [==============================] - 39s 1s/step - loss: 0.2816 - accuracy: 0.8956 - val_loss: 0.2892 - val_accuracy: 0.8911\n",
            "Epoch 4/5\n",
            "29/29 [==============================] - 39s 1s/step - loss: 0.2802 - accuracy: 0.8951 - val_loss: 0.2898 - val_accuracy: 0.8897\n",
            "Epoch 5/5\n",
            "29/29 [==============================] - 39s 1s/step - loss: 0.2825 - accuracy: 0.8960 - val_loss: 0.2891 - val_accuracy: 0.8908\n",
            "[INFO] evaluating network...\n",
            "5/5 [==============================] - 1s 253ms/step\n",
            "              precision    recall  f1-score   support\n",
            "\n",
            "         top       0.84      0.85      0.85      1000\n",
            "     trouser       0.99      0.97      0.98      1000\n",
            "    pullover       0.79      0.84      0.82      1000\n",
            "       dress       0.89      0.90      0.90      1000\n",
            "        coat       0.82      0.78      0.80      1000\n",
            "      sandal       0.98      0.97      0.97      1000\n",
            "       shirt       0.71      0.69      0.70      1000\n",
            "     sneaker       0.94      0.96      0.95      1000\n",
            "         bag       0.97      0.98      0.98      1000\n",
            "  ankle boot       0.97      0.95      0.96      1000\n",
            "\n",
            "    accuracy                           0.89     10000\n",
            "   macro avg       0.89      0.89      0.89     10000\n",
            "weighted avg       0.89      0.89      0.89     10000\n",
            "\n",
            "[INFO] training network...\n",
            "Epoch 1/5\n",
            "14/14 [==============================] - 38s 3s/step - loss: 0.2813 - accuracy: 0.8953 - val_loss: 0.2887 - val_accuracy: 0.8918\n",
            "Epoch 2/5\n",
            "14/14 [==============================] - 38s 3s/step - loss: 0.2807 - accuracy: 0.8963 - val_loss: 0.2886 - val_accuracy: 0.8928\n",
            "Epoch 3/5\n",
            "14/14 [==============================] - 38s 3s/step - loss: 0.2786 - accuracy: 0.8972 - val_loss: 0.2887 - val_accuracy: 0.8910\n",
            "Epoch 4/5\n",
            "14/14 [==============================] - 38s 3s/step - loss: 0.2781 - accuracy: 0.8974 - val_loss: 0.2881 - val_accuracy: 0.8916\n",
            "Epoch 5/5\n",
            "14/14 [==============================] - 39s 3s/step - loss: 0.2806 - accuracy: 0.8961 - val_loss: 0.2877 - val_accuracy: 0.8923\n",
            "[INFO] evaluating network...\n",
            "3/3 [==============================] - 1s 370ms/step\n",
            "              precision    recall  f1-score   support\n",
            "\n",
            "         top       0.83      0.86      0.85      1000\n",
            "     trouser       0.99      0.97      0.98      1000\n",
            "    pullover       0.81      0.84      0.82      1000\n",
            "       dress       0.89      0.91      0.90      1000\n",
            "        coat       0.82      0.79      0.81      1000\n",
            "      sandal       0.97      0.97      0.97      1000\n",
            "       shirt       0.73      0.68      0.70      1000\n",
            "     sneaker       0.94      0.96      0.95      1000\n",
            "         bag       0.97      0.98      0.97      1000\n",
            "  ankle boot       0.97      0.95      0.96      1000\n",
            "\n",
            "    accuracy                           0.89     10000\n",
            "   macro avg       0.89      0.89      0.89     10000\n",
            "weighted avg       0.89      0.89      0.89     10000\n",
            "\n"
          ]
        }
      ],
      "source": [
        "batch = 32\n",
        "\n",
        "print(\"[INFO] compiling model...\")\n",
        "opt = SGD(learning_rate=MAX_LR, momentum=0.9)\n",
        "model = create_model()\n",
        "model.compile(loss=\"categorical_crossentropy\", optimizer=opt,\n",
        "    metrics=[\"accuracy\"])\n",
        "\n",
        "loss = []\n",
        "batches = []\n",
        "\n",
        "while batch <=4096:\n",
        "    print(\"[INFO] training network...\")\n",
        "    H_b = model.fit(\n",
        "\tx=aug.flow(trainX, trainY, batch_size=batch),\n",
        "\tvalidation_data=(testX, testY),\n",
        "\tsteps_per_epoch=trainX.shape[0] // batch,\n",
        "\tepochs=5,\n",
        "\t# callbacks=[clr],\n",
        "\tverbose=1)\n",
        "    # evaluate the network and show a classification report\n",
        "    print(\"[INFO] evaluating network...\")\n",
        "    predictions = model.predict(x=testX, batch_size=batch)\n",
        "    print(classification_report(testY.argmax(axis=1),\n",
        "        predictions.argmax(axis=1), target_names=CLASSES))\n",
        "\n",
        "    loss.append(H_b.history[\"loss\"][-1])\n",
        "    batches.append(batch)\n",
        "\n",
        "    # updating the batch size\n",
        "    batch*=2\n"
      ]
    },
    {
      "cell_type": "code",
      "execution_count": 10,
      "metadata": {
        "colab": {
          "base_uri": "https://localhost:8080/",
          "height": 472
        },
        "id": "rEM8tcKxi-d7",
        "outputId": "8abd4e2a-62d0-4a47-9fb8-36e952fbea1e"
      },
      "outputs": [
        {
          "data": {
            "image/png": "[encoded data removed]",
            "text/plain": [
              "<Figure size 640x480 with 1 Axes>"
            ]
          },
          "metadata": {},
          "output_type": "display_data"
        }
      ],
      "source": [
        "plt.figure()\n",
        "plt.plot(batches, loss)\n",
        "plt.title(\"Batches vs loss\")\n",
        "plt.xlabel(\"Batch Size\")\n",
        "plt.ylabel(\"Training Loss\")\n",
        "plt.savefig(\"batches_loss.png\")"
      ]
    },
    {
      "cell_type": "code",
      "execution_count": 11,
      "metadata": {
        "colab": {
          "base_uri": "https://localhost:8080/",
          "height": 472
        },
        "id": "v6vT_6kNAqLo",
        "outputId": "93a47fa9-c48a-43e6-c94a-bc763a36f11a"
      },
      "outputs": [
        {
          "data": {
            "image/png": "[encoded data removed]",
            "text/plain": [
              "<Figure size 640x480 with 1 Axes>"
            ]
          },
          "metadata": {},
          "output_type": "display_data"
        }
      ],
      "source": [
        "plt.figure()\n",
        "plt.plot(np.log2(batches), loss)\n",
        "plt.title(\"Log2(Batch Size) vs Loss\")\n",
        "plt.xlabel(\"Log2(Batch Size)\")\n",
        "plt.ylabel(\"Training Loss\")\n",
        "plt.savefig(\"log2_batches_loss.png\")"
      ]
    },
    {
      "cell_type": "markdown",
      "metadata": {
        "id": "BHyV8Myo_Xs6"
      },
      "source": [
        "**Answer:**\n",
        "\n",
        "\n",
        "Looking at these 2 graphs we can see that increasing the batch size decreases the training loss. We can also see that the amount the loss decreases is less and less as we increase the batch size. Looking at the accuracy from the classification reporst we can also notice that the accuracy improves (as expected) when we increase the batch size. However, it is worth noting that at some point (approx. when batch size > 1000) increasing the batch size might not be worth the training time as the loss decreases very little at that point. Further, when it finished our model achieved accuracy of 0.89 compared to the accuracy of the cyclical model which was 0.74 (validation accuracy). Due to this we can conclude that our new model preforms much better and since these were validation accuracies that we mentioned we can also conclude that the new model would also generalize better that the cyclical one.\n",
        "\n",
        "Finally, we need to take into consideration that our new model runs significantly longer than the cyclical one - approx. 45 minutes vs. approx. 5 minutes for the cyclical one. This kinda of high usage might become very costly and time consuming. In our case this tradeoff of time might be worth it since our accuracy increased by 0.15. However it might be worth to use lower batch size (such as 1000 or 1500) as that will most likely not decrese the accuracy by much (it will still be higher than the one of cyclical) but it will lead to much lower run time."
      ]
    }
  ],
  "metadata": {
    "colab": {
      "provenance": []
    },
    "kernelspec": {
      "display_name": "Python 3",
      "name": "python3"
    },
    "language_info": {
      "name": "python"
    }
  },
  "nbformat": 4,
  "nbformat_minor": 0
}
