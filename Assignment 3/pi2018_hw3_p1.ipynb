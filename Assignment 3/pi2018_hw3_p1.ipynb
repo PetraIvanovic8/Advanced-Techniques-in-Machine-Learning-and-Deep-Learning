{
  "cells": [
    {
      "cell_type": "markdown",
      "metadata": {
        "id": "NcDhlfqyBd6m"
      },
      "source": [
        "# Problem 1 - Softmax Activation Function"
      ]
    },
    {
      "cell_type": "markdown",
      "metadata": {
        "id": "-id00ye6CNLB"
      },
      "source": [
        "## 1.1"
      ]
    },
    {
      "cell_type": "markdown",
      "metadata": {
        "id": "4kineJbrfcg7"
      },
      "source": [
        "**Answer:**\n",
        "\n",
        "Given:\n",
        "\n",
        "  $\\begin{align}\n",
        "    o_i = \\frac{exp(v_i)}{\\sum_{j=1}^{k}exp(v_j)} \\forall i \\in \\{1,...,k\\} \\\\\n",
        "  \\end{align}$\n",
        "\n",
        "<br>\n",
        "\n",
        "When $i = j$:\n",
        "\n",
        "  $\\begin{align}\n",
        "    \\frac{\\partial o_i}{\\partial v_i} = \\frac{\\partial}{\\partial v_i} \\left(\\frac{exp(v_i)}{\\sum_{j=1}^{k}exp(v_j)}\\right)\n",
        "  \\end{align}$\n",
        "\n",
        "- here we can use the quotient rule and we then have:\n",
        "\n",
        "  $\\begin{align}\n",
        "    \\frac{\\partial o_i}{\\partial v_i} = \\frac{\\left(\\frac{\\partial}{\\partial v_i}exp(v_i)\\right)\\sum_{j=1}^{k}exp(v_j)- exp(v_i)\\left(\\frac{\\partial}{\\partial v_i}\\sum_{j=1}^{k}exp(v_j) \\right)}{\\left(\\sum_{j=1}^{k}exp(v_j)\\right)^2}\n",
        "  \\end{align}$\n",
        "\n",
        "- since $\\frac{\\partial}{\\partial v_i}exp(v_i) = exp(v_i)$ and $i = j$ and thus $\\frac{\\partial}{\\partial v_i}exp(v_j) = exp(v_i)$ we can simplify our equation to\n",
        "\n",
        "  $\\begin{align}\n",
        "    \\frac{\\partial o_i}{\\partial v_i} = \\frac{exp(v_i)\\sum_{j=1}^{k}exp(v_j)- exp(v_i)exp(v_i)}{\\left(\\sum_{j=1}^{k}exp(v_j)\\right)^2}\n",
        "  \\end{align}$\n",
        "\n",
        "  $\\begin{align}\n",
        "    \\frac{\\partial o_i}{\\partial v_i} = \\frac{exp(v_i)\\sum_{j=1}^{k}exp(v_j)- exp(v_i)^2}{\\left(\\sum_{j=1}^{k}exp(v_j)\\right)^2}\n",
        "  \\end{align}$\n",
        "  \n",
        "  $\\begin{align}\n",
        "    \\frac{\\partial o_i}{\\partial v_i} = \\frac{exp(v_i)\\left(\\sum_{j=1}^{k}exp(v_j)- exp(v_i)\\right)}{\\left(\\sum_{j=1}^{k}exp(v_j)\\right)^2}\n",
        "  \\end{align}$\n",
        "\n",
        "- we can simplify this since $ o_i = \\frac{exp(v_i)}{\\sum_{j=1}^{k}exp(v_j)}$, now we have:\n",
        "\n",
        "  $\\begin{align}\n",
        "    \\frac{\\partial o_i}{\\partial v_i} = o_i(1-o_i)\n",
        "  \\end{align}$\n",
        "\n",
        "<br>\n",
        "\n",
        "When $i \\neq j$:\n",
        "\n",
        "  $\\begin{align}\n",
        "    \\frac{\\partial o_i}{\\partial v_j} = \\frac{\\partial}{\\partial v_j} \\left(\\frac{exp(v_i)}{\\sum_{j=1}^{k}exp(v_j)}\\right)\n",
        "  \\end{align}$\n",
        "\n",
        "\n",
        "- here we can use the quotient rule and we then have:\n",
        "\n",
        "  $\\begin{align}\n",
        "    \\frac{\\partial o_i}{\\partial v_j} = \\frac{\\left(\\frac{\\partial}{\\partial v_j}exp(v_i)\\right)\\sum_{j=1}^{k}exp(v_j)- exp(v_i)\\left(\\frac{\\partial}{\\partial v_j}\\sum_{j=1}^{k}exp(v_j) \\right)}{\\left(\\sum_{j=1}^{k}exp(v_j)\\right)^2}\n",
        "  \\end{align}$\n",
        "\n",
        "- since $i \\neq j$, $\\frac{\\partial}{\\partial v_j}exp(v_i) = 0$ and since $\\frac{\\partial}{\\partial v_j}exp(v_j) = exp(v_j)$ we can simplify our equation to\n",
        "\n",
        "  $\\begin{align}\n",
        "    \\frac{\\partial o_i}{\\partial v_j} = \\frac{0- exp(v_i)exp(v_j)}{\\left(\\sum_{j=1}^{k}exp(v_j)\\right)^2}\n",
        "  \\end{align}$\n",
        "\n",
        "  $\\begin{align}\n",
        "    \\frac{\\partial o_i}{\\partial v_j} = \\frac{- exp(v_i)exp(v_j)}{\\left(\\sum_{j=1}^{k}exp(v_j)\\right)^2}\n",
        "  \\end{align}$\n",
        "\n",
        "\n",
        "- we can simplify this since $ o_i = \\frac{exp(v_i)}{\\sum_{j=1}^{k}exp(v_j)}$, now when $i \\neq j$ we have:\n",
        "\n",
        "  $\\begin{align}\n",
        "    \\frac{\\partial o_i}{\\partial v_j} = -o_i o_j\n",
        "  \\end{align}$\n",
        "\n",
        "\n"
      ]
    },
    {
      "cell_type": "markdown",
      "metadata": {
        "id": "e1D_yfneCWqL"
      },
      "source": [
        "## 1.2"
      ]
    },
    {
      "cell_type": "markdown",
      "metadata": {
        "id": "97UqcCzE9RLp"
      },
      "source": [
        "Given:\n",
        "  $\\begin{align}\n",
        "    L = -\\sum_{i=1}^k y_i log(o_i)\n",
        "  \\end{align}$\n",
        "\n",
        "\n",
        "**Answer:**\n",
        "\n",
        "- differentiating both sides with respect to $v_i$ we get:\n",
        "\n",
        "  $\\begin{align}\n",
        "    \\frac{\\partial L}{\\partial v_i} = -\\sum_{i=1}^k y_i \\frac{\\partial log(o_i)}{\\partial v_i}\n",
        "  \\end{align}$\n",
        "\n",
        "- we can break this down into:\n",
        "\n",
        "  $\\begin{align}\n",
        "    \\frac{\\partial L}{\\partial v_i} = -\\sum_{i=1}^k y_i \\frac{1}{o_i}\\frac{\\partial o_i}{\\partial v_i}\n",
        "  \\end{align}$\n",
        "\n",
        "- from part 1 we know that:\n",
        "- when $i = j$:\n",
        "\n",
        "  $\\begin{align}\n",
        "    \\frac{\\partial o_i}{\\partial v_i} = o_i(1-o_i)\n",
        "  \\end{align}$\n",
        "\n",
        "- when $i \\neq j$:\n",
        "\n",
        "  $\\begin{align}\n",
        "    \\frac{\\partial o_i}{\\partial v_j} = -o_i o_j\n",
        "  \\end{align}$\n",
        "\n",
        "\n",
        "- using these formula we can simplify our equation to:\n",
        "\n",
        "  $\\begin{align}\n",
        "    \\frac{\\partial L}{\\partial v_i} = - \\sum_{i=j}^{k} y_i \\frac{1}{o_i} (o_i(1-o_i) \\text{ if i = j, and} -o_io_j \\text{ if } i \\neq y )\n",
        "  \\end{align}$\n",
        "\n",
        "- this can be simplified to:\n",
        "  $\\begin{align}\n",
        "    \\frac{\\partial L}{\\partial v_i} = - \\sum_{i=j}^{k} y_i \\frac{1}{o_i} (o_i-y_i \\text{ if i = j, and } 0 \\text{ if } i \\neq y )\n",
        "  \\end{align}$\n",
        "\n",
        "- we can do this simplification since $y_io_j = 0 $ since $y_i$ is a cross-entropy loss term that is equal to 0 when $i \\neq j$ and $y_io_i = 1$ since $y_i$ is a cross-entropy loss term that is equal to 1 when $i = j$\n",
        "\n",
        "- thus we have shown that:\n",
        "\n",
        "  $\\begin{align}\n",
        "    \\frac{\\partial L}{\\partial v_i} = o_i - y_i\n",
        "  \\end{align}$\n",
        "  "
      ]
    }
  ],
  "metadata": {
    "colab": {
      "provenance": []
    },
    "kernelspec": {
      "display_name": "Python 3",
      "name": "python3"
    },
    "language_info": {
      "name": "python"
    }
  },
  "nbformat": 4,
  "nbformat_minor": 0
}
