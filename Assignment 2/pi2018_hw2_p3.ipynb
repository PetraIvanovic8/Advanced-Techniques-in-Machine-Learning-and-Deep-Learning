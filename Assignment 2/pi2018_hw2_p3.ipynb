{
  "cells": [
    {
      "cell_type": "markdown",
      "metadata": {
        "id": "NcDhlfqyBd6m"
      },
      "source": [
        "# Problem 3 - Perceptron"
      ]
    },
    {
      "cell_type": "markdown",
      "metadata": {
        "id": "-id00ye6CNLB"
      },
      "source": [
        "## 3.1"
      ]
    },
    {
      "cell_type": "code",
      "execution_count": null,
      "metadata": {
        "colab": {
          "base_uri": "https://localhost:8080/",
          "height": 430
        },
        "id": "3wmbdopRN5CF",
        "outputId": "9f312df1-fd87-49ba-e294-1c2061c38ae8"
      },
      "outputs": [
        {
          "data": {
            "image/png": "[encoded data removed]",
            "text/plain": [
              "<Figure size 640x480 with 1 Axes>"
            ]
          },
          "metadata": {},
          "output_type": "display_data"
        }
      ],
      "source": [
        "import numpy as np\n",
        "import matplotlib.pyplot as plt\n",
        "import random\n",
        "\n",
        "np.random.seed(0)\n",
        "\n",
        "def dataset(n, area):\n",
        "  import numpy as np\n",
        "  dataset = []\n",
        "\n",
        "  if area == 1:\n",
        "    for i in range(n):\n",
        "        dataset.append([random.random(), random.random()])\n",
        "\n",
        "  elif area == 'circle':\n",
        "    for sample in range(n):\n",
        "        dataset.append([random.random(),random.random()])\n",
        "\n",
        "  for x in dataset:\n",
        "      if x[0] > x[1]:\n",
        "          x.append(1)\n",
        "      else:\n",
        "          x.append(-1)\n",
        "  return np.array(dataset)\n",
        "\n",
        "# Generating the training set\n",
        "training = dataset(10,1)\n",
        "training_x = training[:,:2]\n",
        "training_y = training[:,2:]\n",
        "\n",
        "positive_array = training_x[training_x[:, 0] > training_x[:, 1]]\n",
        "negative_array = training_x[training_x[:, 0] <= training_x[:, 1]]\n",
        "\n",
        "\n",
        "# Generating the test set\n",
        "test = dataset(5000, 'circle')\n",
        "test_x = test[:,:2]\n",
        "test_y = test[:,2:]\n",
        "\n",
        "x1_range = np.arange(0, 1, 0.01)\n",
        "\n",
        "plt.scatter(positive_array[:,0], positive_array[:,1], label='positive')\n",
        "plt.scatter(negative_array[:,0], negative_array[:,1], label='negative')\n",
        "plt.plot(x1_range, x1_range, label='x1-x2=0')\n",
        "plt.legend()\n",
        "plt.show()\n"
      ]
    },
    {
      "cell_type": "markdown",
      "metadata": {
        "id": "gZk1AAHhdOwU"
      },
      "source": [
        "Above we can see the plot of our training data separated into positive and negative datapoints."
      ]
    },
    {
      "cell_type": "code",
      "execution_count": null,
      "metadata": {
        "id": "rAV0kF7OLYUA"
      },
      "outputs": [],
      "source": [
        "from sklearn.metrics import accuracy_score\n",
        "\n",
        "class perceptron:\n",
        "  def __init__(self):\n",
        "    self.weights = None\n",
        "    self.a = None\n",
        "\n",
        "  # The loss function used for learning. a = 0 perceptron criterion, a = 1 hinge loss\n",
        "  def loss_function(self,X):\n",
        "    return np.sign(self.a - np.dot(self.weights,X))\n",
        "\n",
        "  # The predict function to round the number for the positive values\n",
        "  def predict(self,X):\n",
        "    y_predicted = []\n",
        "    for x in X:\n",
        "      y_predicted.append(self.loss_function(x))\n",
        "    return np.array(y_predicted)\n",
        "\n",
        "  # X is the x values from the training set\n",
        "  # Y are the lables for the training set\n",
        "  # a = 0 perceptron criterion, a = 1 hinge loss\n",
        "  # epoch = number of weight training cycles\n",
        "  def fit(self,X,Y,a,epoch):\n",
        "    self.a = a\n",
        "    self.weights = [random.random() for i in range(len(X[0]))]\n",
        "    for step in range(epoch):\n",
        "      for x,y in zip(X,Y):\n",
        "        prediction = self.loss_function(x)\n",
        "        error = int(y[0]) - prediction\n",
        "        if y[0] != prediction:\n",
        "          self.weights = self.weights + (-0.1 * error * x ) #adjusting the weights"
      ]
    },
    {
      "cell_type": "code",
      "execution_count": null,
      "metadata": {
        "colab": {
          "base_uri": "https://localhost:8080/"
        },
        "id": "wmO1-IB2Qn2D",
        "outputId": "87893c1e-688a-4431-dd52-78c1e00a2571"
      },
      "outputs": [
        {
          "name": "stdout",
          "output_type": "stream",
          "text": [
            "0.9478\n"
          ]
        }
      ],
      "source": [
        "perceptron_PCLoss = perceptron()\n",
        "\n",
        "perceptron_PCLoss.fit(training_x,training_y, 0, 1000) # a = 0 perceptron criterion loss\n",
        "\n",
        "y_predicted = perceptron_PCLoss.predict(test_x)\n",
        "print(accuracy_score(y_predicted, np.array(test_y)))\n",
        "\n",
        "#print(y_predicted, np.array(test_y))"
      ]
    },
    {
      "cell_type": "markdown",
      "metadata": {
        "id": "4kineJbrfcg7"
      },
      "source": [
        "**Answer:**\n",
        "We have created and implemented our Perceptron Algorithm with perceptron criterion loss. We have trained the model on our training data with 1000 epoch and the accuracy of this algortihm on the testing data is high at 0.9478."
      ]
    },
    {
      "cell_type": "markdown",
      "metadata": {
        "id": "e1D_yfneCWqL"
      },
      "source": [
        "## 3.2"
      ]
    },
    {
      "cell_type": "code",
      "execution_count": null,
      "metadata": {
        "colab": {
          "base_uri": "https://localhost:8080/"
        },
        "id": "XHKp0slmDbpj",
        "outputId": "550e0640-8741-4dc6-ecc9-b4373755ad9d"
      },
      "outputs": [
        {
          "name": "stdout",
          "output_type": "stream",
          "text": [
            "0.9536\n"
          ]
        }
      ],
      "source": [
        "# your code starts here\n",
        "perceptron_HingeLoss= perceptron()\n",
        "\n",
        "perceptron_HingeLoss.fit(training_x,training_y, 1, 1000) # a = 1 hinge loss\n",
        "\n",
        "y_predicted2 = perceptron_HingeLoss.predict(test_x)\n",
        "print(accuracy_score(y_predicted2, np.array(test_y)))"
      ]
    },
    {
      "cell_type": "markdown",
      "metadata": {
        "id": "BX8Ns_Imf-BI"
      },
      "source": [
        "**Answer:**\n",
        "We have used the same perceptron algorithm as before but this time instead of the perceptron criterion loss function we used hinge loss and achieved slightly higher accuracy at 0.9536 with same number of epochs (1000)."
      ]
    },
    {
      "cell_type": "markdown",
      "metadata": {
        "id": "TpMHZDOECjD3"
      },
      "source": [
        "## 3.3"
      ]
    },
    {
      "cell_type": "markdown",
      "metadata": {
        "id": "GRo9fm0tf-ga"
      },
      "source": [
        "**Answer:**\n",
        "Hinge-loss expectedly has higer accuracy because it encourages a larger margin between classes, which often leads to better generalization. This is because the larger/wider margin makes it less likely to misclassify points that are close to the boundary. In our application the perceptron with hinge-loss has slightly higher accuracy at 0.9536 compared to the one with perceptron criterion loss function that has accuracy of 0.9478. Additionally, it is worth to note that both of our models do have quite high and very similar accuracies."
      ]
    },
    {
      "cell_type": "markdown",
      "metadata": {
        "id": "YdDLYruzClXn"
      },
      "source": [
        "## 3.4"
      ]
    },
    {
      "cell_type": "markdown",
      "metadata": {
        "id": "RdaMp6ZBf_DF"
      },
      "source": [
        "**Answer:**\n",
        "We would expect the classification to not change significantly when using hinge-loss since it encurages a larger margin and penalizes points that are closer to the decision boundary, which results in a classifier that is less sensitive to individual training examples. Further, perceptron criterion loss is more sensitive to individual points, and changing the training set can have a more significant impact on the decision boundary.\n",
        "\n"
      ]
    }
  ],
  "metadata": {
    "colab": {
      "provenance": []
    },
    "kernelspec": {
      "display_name": "Python 3",
      "name": "python3"
    },
    "language_info": {
      "name": "python"
    }
  },
  "nbformat": 4,
  "nbformat_minor": 0
}
